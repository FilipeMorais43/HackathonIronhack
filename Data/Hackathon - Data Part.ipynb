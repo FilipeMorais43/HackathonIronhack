{
 "cells": [
  {
   "cell_type": "code",
   "execution_count": 1,
   "metadata": {},
   "outputs": [],
   "source": [
    "import pandas as pd \n",
    "import numpy as np \n",
    "import bokeh\n",
    "import matplotlib.pyplot as plt\n",
    "pd.set_option(\"display.max_columns\", 35)"
   ]
  },
  {
   "cell_type": "code",
   "execution_count": 2,
   "metadata": {},
   "outputs": [],
   "source": [
    "data = pd.read_csv('../Data/form/form_0.csv')\n",
    "data.head()\n",
    "#data.drop(columns = ['q29','q30','q31','Unnamed: 32','Unnamed: 33'], inplace = True)\n",
    "data.head()\n",
    "data = data.set_index('Id Number')"
   ]
  },
  {
   "cell_type": "code",
   "execution_count": 3,
   "metadata": {},
   "outputs": [
    {
     "data": {
      "text/html": [
       "<div>\n",
       "<style scoped>\n",
       "    .dataframe tbody tr th:only-of-type {\n",
       "        vertical-align: middle;\n",
       "    }\n",
       "\n",
       "    .dataframe tbody tr th {\n",
       "        vertical-align: top;\n",
       "    }\n",
       "\n",
       "    .dataframe thead th {\n",
       "        text-align: right;\n",
       "    }\n",
       "</style>\n",
       "<table border=\"1\" class=\"dataframe\">\n",
       "  <thead>\n",
       "    <tr style=\"text-align: right;\">\n",
       "      <th></th>\n",
       "      <th>q1</th>\n",
       "      <th>q2</th>\n",
       "      <th>q3</th>\n",
       "      <th>q4</th>\n",
       "      <th>q5</th>\n",
       "      <th>q6</th>\n",
       "      <th>q7</th>\n",
       "      <th>q8</th>\n",
       "      <th>q9</th>\n",
       "      <th>q10</th>\n",
       "      <th>q11</th>\n",
       "      <th>q12</th>\n",
       "      <th>q13</th>\n",
       "      <th>q14</th>\n",
       "      <th>q15</th>\n",
       "      <th>q16</th>\n",
       "      <th>q17</th>\n",
       "      <th>q18</th>\n",
       "      <th>q19</th>\n",
       "      <th>q20</th>\n",
       "      <th>q21</th>\n",
       "      <th>q22</th>\n",
       "      <th>q23</th>\n",
       "      <th>q24</th>\n",
       "      <th>q25</th>\n",
       "      <th>q26</th>\n",
       "      <th>q27</th>\n",
       "      <th>q28</th>\n",
       "    </tr>\n",
       "    <tr>\n",
       "      <th>Id Number</th>\n",
       "      <th></th>\n",
       "      <th></th>\n",
       "      <th></th>\n",
       "      <th></th>\n",
       "      <th></th>\n",
       "      <th></th>\n",
       "      <th></th>\n",
       "      <th></th>\n",
       "      <th></th>\n",
       "      <th></th>\n",
       "      <th></th>\n",
       "      <th></th>\n",
       "      <th></th>\n",
       "      <th></th>\n",
       "      <th></th>\n",
       "      <th></th>\n",
       "      <th></th>\n",
       "      <th></th>\n",
       "      <th></th>\n",
       "      <th></th>\n",
       "      <th></th>\n",
       "      <th></th>\n",
       "      <th></th>\n",
       "      <th></th>\n",
       "      <th></th>\n",
       "      <th></th>\n",
       "      <th></th>\n",
       "      <th></th>\n",
       "    </tr>\n",
       "  </thead>\n",
       "  <tbody>\n",
       "    <tr>\n",
       "      <th>1</th>\n",
       "      <td>1</td>\n",
       "      <td>1</td>\n",
       "      <td>1</td>\n",
       "      <td>1</td>\n",
       "      <td>1</td>\n",
       "      <td>1</td>\n",
       "      <td>1</td>\n",
       "      <td>1</td>\n",
       "      <td>1</td>\n",
       "      <td>Full-Time</td>\n",
       "      <td>1</td>\n",
       "      <td>1</td>\n",
       "      <td>1</td>\n",
       "      <td>1</td>\n",
       "      <td>1</td>\n",
       "      <td>1</td>\n",
       "      <td>1</td>\n",
       "      <td>1</td>\n",
       "      <td>1</td>\n",
       "      <td>1</td>\n",
       "      <td>1</td>\n",
       "      <td>1</td>\n",
       "      <td>1</td>\n",
       "      <td>1</td>\n",
       "      <td>1</td>\n",
       "      <td>1</td>\n",
       "      <td>1</td>\n",
       "      <td>1</td>\n",
       "    </tr>\n",
       "    <tr>\n",
       "      <th>2</th>\n",
       "      <td>1</td>\n",
       "      <td>1</td>\n",
       "      <td>1</td>\n",
       "      <td>1</td>\n",
       "      <td>1</td>\n",
       "      <td>1</td>\n",
       "      <td>1</td>\n",
       "      <td>1</td>\n",
       "      <td>1</td>\n",
       "      <td>Full-Time</td>\n",
       "      <td>1</td>\n",
       "      <td>1</td>\n",
       "      <td>1</td>\n",
       "      <td>1</td>\n",
       "      <td>1</td>\n",
       "      <td>1</td>\n",
       "      <td>1</td>\n",
       "      <td>1</td>\n",
       "      <td>1</td>\n",
       "      <td>1</td>\n",
       "      <td>1</td>\n",
       "      <td>1</td>\n",
       "      <td>1</td>\n",
       "      <td>1</td>\n",
       "      <td>1</td>\n",
       "      <td>1</td>\n",
       "      <td>1</td>\n",
       "      <td>1</td>\n",
       "    </tr>\n",
       "    <tr>\n",
       "      <th>3</th>\n",
       "      <td>1</td>\n",
       "      <td>1</td>\n",
       "      <td>1</td>\n",
       "      <td>1</td>\n",
       "      <td>1</td>\n",
       "      <td>1</td>\n",
       "      <td>1</td>\n",
       "      <td>1</td>\n",
       "      <td>1</td>\n",
       "      <td>Full-Time</td>\n",
       "      <td>1</td>\n",
       "      <td>1</td>\n",
       "      <td>1</td>\n",
       "      <td>1</td>\n",
       "      <td>1</td>\n",
       "      <td>1</td>\n",
       "      <td>1</td>\n",
       "      <td>1</td>\n",
       "      <td>1</td>\n",
       "      <td>1</td>\n",
       "      <td>1</td>\n",
       "      <td>1</td>\n",
       "      <td>1</td>\n",
       "      <td>1</td>\n",
       "      <td>1</td>\n",
       "      <td>1</td>\n",
       "      <td>1</td>\n",
       "      <td>1</td>\n",
       "    </tr>\n",
       "    <tr>\n",
       "      <th>4</th>\n",
       "      <td>1</td>\n",
       "      <td>1</td>\n",
       "      <td>1</td>\n",
       "      <td>1</td>\n",
       "      <td>1</td>\n",
       "      <td>1</td>\n",
       "      <td>1</td>\n",
       "      <td>1</td>\n",
       "      <td>1</td>\n",
       "      <td>Part-Time</td>\n",
       "      <td>1</td>\n",
       "      <td>1</td>\n",
       "      <td>1</td>\n",
       "      <td>1</td>\n",
       "      <td>1</td>\n",
       "      <td>1</td>\n",
       "      <td>1</td>\n",
       "      <td>1</td>\n",
       "      <td>1</td>\n",
       "      <td>1</td>\n",
       "      <td>1</td>\n",
       "      <td>1</td>\n",
       "      <td>1</td>\n",
       "      <td>1</td>\n",
       "      <td>1</td>\n",
       "      <td>1</td>\n",
       "      <td>1</td>\n",
       "      <td>1</td>\n",
       "    </tr>\n",
       "    <tr>\n",
       "      <th>5</th>\n",
       "      <td>1</td>\n",
       "      <td>1</td>\n",
       "      <td>1</td>\n",
       "      <td>1</td>\n",
       "      <td>1</td>\n",
       "      <td>1</td>\n",
       "      <td>1</td>\n",
       "      <td>1</td>\n",
       "      <td>1</td>\n",
       "      <td>Freelancer</td>\n",
       "      <td>1</td>\n",
       "      <td>1</td>\n",
       "      <td>1</td>\n",
       "      <td>1</td>\n",
       "      <td>1</td>\n",
       "      <td>1</td>\n",
       "      <td>1</td>\n",
       "      <td>1</td>\n",
       "      <td>1</td>\n",
       "      <td>1</td>\n",
       "      <td>1</td>\n",
       "      <td>1</td>\n",
       "      <td>1</td>\n",
       "      <td>1</td>\n",
       "      <td>1</td>\n",
       "      <td>1</td>\n",
       "      <td>1</td>\n",
       "      <td>1</td>\n",
       "    </tr>\n",
       "  </tbody>\n",
       "</table>\n",
       "</div>"
      ],
      "text/plain": [
       "           q1  q2  q3  q4  q5  q6  q7  q8  q9         q10  q11  q12  q13  q14  \\\n",
       "Id Number                                                                       \n",
       "1           1   1   1   1   1   1   1   1   1   Full-Time    1    1    1    1   \n",
       "2           1   1   1   1   1   1   1   1   1   Full-Time    1    1    1    1   \n",
       "3           1   1   1   1   1   1   1   1   1   Full-Time    1    1    1    1   \n",
       "4           1   1   1   1   1   1   1   1   1   Part-Time    1    1    1    1   \n",
       "5           1   1   1   1   1   1   1   1   1  Freelancer    1    1    1    1   \n",
       "\n",
       "           q15  q16  q17  q18  q19  q20  q21  q22  q23  q24  q25  q26  q27  \\\n",
       "Id Number                                                                    \n",
       "1            1    1    1    1    1    1    1    1    1    1    1    1    1   \n",
       "2            1    1    1    1    1    1    1    1    1    1    1    1    1   \n",
       "3            1    1    1    1    1    1    1    1    1    1    1    1    1   \n",
       "4            1    1    1    1    1    1    1    1    1    1    1    1    1   \n",
       "5            1    1    1    1    1    1    1    1    1    1    1    1    1   \n",
       "\n",
       "           q28  \n",
       "Id Number       \n",
       "1            1  \n",
       "2            1  \n",
       "3            1  \n",
       "4            1  \n",
       "5            1  "
      ]
     },
     "execution_count": 3,
     "metadata": {},
     "output_type": "execute_result"
    }
   ],
   "source": [
    "import random\n",
    "\n",
    "lst = []\n",
    "for x in range(250): \n",
    "    if x< 50: \n",
    "        lst.append('Freelancer')\n",
    "    if 50<=x<100: \n",
    "        lst.append('Part-Time')\n",
    "    elif 100<x<250:\n",
    "        lst.append('Full-Time')\n",
    "\n",
    "kind_job = random.sample(lst, len(lst))\n",
    "\n",
    "len(kind_job)\n",
    "data['q10'] = pd.Series(kind_job)\n",
    "data.head()"
   ]
  },
  {
   "cell_type": "code",
   "execution_count": 4,
   "metadata": {},
   "outputs": [
    {
     "data": {
      "text/plain": [
       "Id Number\n",
       "1      1413.755254\n",
       "2       781.905524\n",
       "3      1111.481416\n",
       "4       502.024321\n",
       "5      1200.222997\n",
       "          ...     \n",
       "245     864.415779\n",
       "246    1242.183581\n",
       "247    1018.971492\n",
       "248    1036.840043\n",
       "249     807.646962\n",
       "Name: q11, Length: 249, dtype: float64"
      ]
     },
     "execution_count": 4,
     "metadata": {},
     "output_type": "execute_result"
    }
   ],
   "source": [
    "from scipy.stats import norm\n",
    "from scipy.stats import binom\n",
    "from scipy.stats import bernoulli\n",
    "\n",
    "data['q11'] = norm.rvs(loc = 1046, scale = 300, size = 249)\n",
    "data['q12'] = norm.rvs(loc = 1274, scale = 300, size = 249)\n",
    "data['q11']\n",
    "\n",
    "# pordata "
   ]
  },
  {
   "cell_type": "code",
   "execution_count": 5,
   "metadata": {},
   "outputs": [
    {
     "data": {
      "text/plain": [
       "\" data['q12'] = (data['q10']-data['q11'])/data['q10']\\n\\ndata.rename(columns= {'q9':'job_type','q10':'your_salary','q11':'male_salary','q12':'perceived_gap'}, inplace = True)\\ndata.head()\\n\\n#calculated \""
      ]
     },
     "execution_count": 5,
     "metadata": {},
     "output_type": "execute_result"
    }
   ],
   "source": [
    "\"\"\" data['q12'] = (data['q10']-data['q11'])/data['q10']\n",
    "\n",
    "data.rename(columns= {'q9':'job_type','q10':'your_salary','q11':'male_salary','q12':'perceived_gap'}, inplace = True)\n",
    "data.head()\n",
    "\n",
    "#calculated \"\"\""
   ]
  },
  {
   "cell_type": "code",
   "execution_count": 6,
   "metadata": {},
   "outputs": [],
   "source": [
    "data['q13'] = norm.rvs(loc = 0.4565, scale = 0.14, size = 249)\n",
    "#data.rename(columns= {'q13':'perc_women'}, inplace = True)\n",
    "#data.head()\n",
    "\n",
    "# trading economics"
   ]
  },
  {
   "cell_type": "code",
   "execution_count": 7,
   "metadata": {},
   "outputs": [
    {
     "data": {
      "text/plain": [
       "(array([105.,   0.,   0.,   0.,   0.,   0.,   0.,   0.,   0., 144.]),\n",
       " array([0. , 0.1, 0.2, 0.3, 0.4, 0.5, 0.6, 0.7, 0.8, 0.9, 1. ]),\n",
       " <a list of 10 Patch objects>)"
      ]
     },
     "execution_count": 7,
     "metadata": {},
     "output_type": "execute_result"
    },
    {
     "data": {
      "image/png": "[encoded data removed]",
      "text/plain": [
       "<Figure size 576x504 with 1 Axes>"
      ]
     },
     "metadata": {
      "image/png": {
       "height": 419,
       "width": 494
      }
     },
     "output_type": "display_data"
    }
   ],
   "source": [
    "# Generating random variables\n",
    "binomial = bernoulli.rvs(0.6, size = 249)\n",
    "plt.hist(binomial)\n",
    "\n",
    "\n",
    "#data.rename(columns= {'q13':'perc_women'}, inplace = True)\n",
    "#data.head()\n"
   ]
  },
  {
   "cell_type": "code",
   "execution_count": 8,
   "metadata": {},
   "outputs": [],
   "source": [
    "data['q14'] = norm.rvs(loc = 0.10, scale = 0.02, size = 249)\n",
    "\n",
    "#data.rename(columns= {'q14':'perc_women_exec'}, inplace = True)\n",
    "#data.head()\n",
    "\n",
    "#Eurostat"
   ]
  },
  {
   "cell_type": "code",
   "execution_count": 9,
   "metadata": {},
   "outputs": [],
   "source": [
    "data['q15'] = norm.rvs(loc = 0.22, scale = 0.06, size = 249)\n",
    "\n",
    "#data.rename(columns= {'q15':'perc_women_manag'}, inplace = True)\n",
    "#data.head()\n",
    "\n",
    "#Eurostat"
   ]
  },
  {
   "cell_type": "code",
   "execution_count": 10,
   "metadata": {},
   "outputs": [],
   "source": [
    "data['q16'] = 1-data['q15']-data['q14']\n",
    "\n",
    "#data.rename(columns= {'q16':'perc_women_other'}, inplace = True)\n",
    "#data.head()\n",
    "\n",
    "# Maybe we need to take this out - doesn't add information. "
   ]
  },
  {
   "cell_type": "code",
   "execution_count": 11,
   "metadata": {},
   "outputs": [],
   "source": [
    "data['q17'] = bernoulli.rvs(0.078, size = 249)\n",
    "\n",
    "#data.rename(columns= {'q17':'admin_gender_strat'}, inplace = True)\n",
    "#data.head()\n",
    "\n",
    "# estimated from Australian Model "
   ]
  },
  {
   "cell_type": "code",
   "execution_count": 12,
   "metadata": {},
   "outputs": [],
   "source": [
    "data['q18'] = bernoulli.rvs(0.4, size = 249)\n",
    "\n",
    "#data.rename(columns= {'q18':'w_promotion_as_likely'}, inplace = True)\n",
    "#data.head()\n",
    "\n",
    "\n",
    "# According to Mcckinsey, women 15 less likely to get promoted. "
   ]
  },
  {
   "cell_type": "code",
   "execution_count": 13,
   "metadata": {},
   "outputs": [],
   "source": [
    "data['q19'] = bernoulli.rvs(0.6, size = 249)\n",
    "\n",
    "#data.rename(columns= {'q19':'w_resignation_as_likely'}, inplace = True)\n",
    "#data.head()\n",
    "\n",
    "# Forbes \n",
    "# Women are more likely to resign, 31% vs 24%, even bigger at the top level, 24% vs 7%"
   ]
  },
  {
   "cell_type": "code",
   "execution_count": 14,
   "metadata": {},
   "outputs": [],
   "source": [
    "data['q20'] = bernoulli.rvs(0.4, size = 249)\n",
    "\n",
    "#data.rename(columns= {'q20':'w_fired_as_likely'}, inplace = True)\n",
    "#data.head()\n",
    "\n",
    "# Fortune -45% more likely to get fired "
   ]
  },
  {
   "cell_type": "code",
   "execution_count": 15,
   "metadata": {},
   "outputs": [],
   "source": [
    "data['q21'] = bernoulli.rvs(0.4, size = 249)\n",
    "\n",
    "#data.rename(columns= {'q21':'organization_concerned'}, inplace = True)\n",
    "#data.head()\n",
    "\n",
    "# Women 3 times more likely \n",
    "# Data from Cnbc poll\n",
    "# https://www.cnbc.com/2017/12/19/one-fifth-of-american-adults-have-been-sexually-harassed-at-work.html"
   ]
  },
  {
   "cell_type": "code",
   "execution_count": 16,
   "metadata": {},
   "outputs": [],
   "source": [
    "data['q22'] = bernoulli.rvs(0.2, size = 249)\n",
    "\n",
    "#data.rename(columns= {'q22':'organization_proactive_gi'}, inplace = True)\n",
    "#data.head()"
   ]
  },
  {
   "cell_type": "code",
   "execution_count": 17,
   "metadata": {},
   "outputs": [],
   "source": [
    "data['q23'] = bernoulli.rvs(0.7, size = 249)\n",
    "\n",
    "#data.rename(columns= {'q23':'parental_leave'}, inplace = True)\n",
    "#data.head()"
   ]
  },
  {
   "cell_type": "code",
   "execution_count": 18,
   "metadata": {},
   "outputs": [],
   "source": [
    "data['q24'] = bernoulli.rvs(0.4, size = 249)\n",
    "\n",
    "#data.rename(columns= {'q24':'child_penalty'}, inplace = True)\n",
    "#data.head()"
   ]
  },
  {
   "cell_type": "code",
   "execution_count": 19,
   "metadata": {},
   "outputs": [],
   "source": [
    "data['q25'] = bernoulli.rvs(0.3, size = 249)\n",
    "\n",
    "#data.rename(columns= {'q25':'work_harassment'}, inplace = True)\n",
    "#data.head()\n",
    "\n",
    "# according to CNBC's poll "
   ]
  },
  {
   "cell_type": "code",
   "execution_count": 20,
   "metadata": {},
   "outputs": [],
   "source": [
    "data['q26'] = bernoulli.rvs(0.25, size = 249)\n",
    "\n",
    "#data.rename(columns= {'q26':'company_harassment_procedures'}, inplace = True)\n",
    "#data.head()"
   ]
  },
  {
   "cell_type": "code",
   "execution_count": 21,
   "metadata": {},
   "outputs": [],
   "source": [
    "data['q27'] = bernoulli.rvs(0.4, size = 249)\n",
    "\n",
    "#data.rename(columns= {'q27':'company_support_domestic_abuse'}, inplace = True)\n",
    "#data.head()"
   ]
  },
  {
   "cell_type": "code",
   "execution_count": 22,
   "metadata": {},
   "outputs": [
    {
     "data": {
      "text/plain": [
       "Index(['q1', 'q2', 'q3', 'q4', 'q5', 'q6', 'q7', 'q8', 'q9', 'q10', 'q11',\n",
       "       'q12', 'q13', 'q14', 'q15', 'q16', 'q17', 'q18', 'q19', 'q20', 'q21',\n",
       "       'q22', 'q23', 'q24', 'q25', 'q26', 'q27', 'q28'],\n",
       "      dtype='object')"
      ]
     },
     "execution_count": 22,
     "metadata": {},
     "output_type": "execute_result"
    }
   ],
   "source": [
    "data.columns #to_json('final_test.json')"
   ]
  },
  {
   "cell_type": "code",
   "execution_count": 23,
   "metadata": {},
   "outputs": [],
   "source": [
    "data.drop(columns = 'q28', inplace = True )"
   ]
  },
  {
   "cell_type": "code",
   "execution_count": 24,
   "metadata": {},
   "outputs": [],
   "source": [
    "data.to_json('final_test.json')"
   ]
  },
  {
   "cell_type": "code",
   "execution_count": 25,
   "metadata": {},
   "outputs": [
    {
     "data": {
      "text/html": [
       "<div>\n",
       "<style scoped>\n",
       "    .dataframe tbody tr th:only-of-type {\n",
       "        vertical-align: middle;\n",
       "    }\n",
       "\n",
       "    .dataframe tbody tr th {\n",
       "        vertical-align: top;\n",
       "    }\n",
       "\n",
       "    .dataframe thead th {\n",
       "        text-align: right;\n",
       "    }\n",
       "</style>\n",
       "<table border=\"1\" class=\"dataframe\">\n",
       "  <thead>\n",
       "    <tr style=\"text-align: right;\">\n",
       "      <th></th>\n",
       "      <th>q1</th>\n",
       "      <th>q2</th>\n",
       "      <th>q3</th>\n",
       "      <th>q4</th>\n",
       "      <th>q5</th>\n",
       "      <th>q6</th>\n",
       "      <th>q7</th>\n",
       "      <th>q8</th>\n",
       "      <th>q9</th>\n",
       "      <th>q10</th>\n",
       "      <th>q11</th>\n",
       "      <th>q12</th>\n",
       "      <th>q13</th>\n",
       "      <th>q14</th>\n",
       "      <th>q15</th>\n",
       "      <th>q16</th>\n",
       "      <th>q17</th>\n",
       "      <th>q18</th>\n",
       "      <th>q19</th>\n",
       "      <th>q20</th>\n",
       "      <th>q21</th>\n",
       "      <th>q22</th>\n",
       "      <th>q23</th>\n",
       "      <th>q24</th>\n",
       "      <th>q25</th>\n",
       "      <th>q26</th>\n",
       "      <th>q27</th>\n",
       "    </tr>\n",
       "    <tr>\n",
       "      <th>Id Number</th>\n",
       "      <th></th>\n",
       "      <th></th>\n",
       "      <th></th>\n",
       "      <th></th>\n",
       "      <th></th>\n",
       "      <th></th>\n",
       "      <th></th>\n",
       "      <th></th>\n",
       "      <th></th>\n",
       "      <th></th>\n",
       "      <th></th>\n",
       "      <th></th>\n",
       "      <th></th>\n",
       "      <th></th>\n",
       "      <th></th>\n",
       "      <th></th>\n",
       "      <th></th>\n",
       "      <th></th>\n",
       "      <th></th>\n",
       "      <th></th>\n",
       "      <th></th>\n",
       "      <th></th>\n",
       "      <th></th>\n",
       "      <th></th>\n",
       "      <th></th>\n",
       "      <th></th>\n",
       "      <th></th>\n",
       "    </tr>\n",
       "  </thead>\n",
       "  <tbody>\n",
       "    <tr>\n",
       "      <th>1</th>\n",
       "      <td>1</td>\n",
       "      <td>1</td>\n",
       "      <td>1</td>\n",
       "      <td>1</td>\n",
       "      <td>1</td>\n",
       "      <td>1</td>\n",
       "      <td>1</td>\n",
       "      <td>1</td>\n",
       "      <td>1</td>\n",
       "      <td>Full-Time</td>\n",
       "      <td>1413.755254</td>\n",
       "      <td>1123.773708</td>\n",
       "      <td>0.692310</td>\n",
       "      <td>0.094838</td>\n",
       "      <td>0.295012</td>\n",
       "      <td>0.610151</td>\n",
       "      <td>0</td>\n",
       "      <td>1</td>\n",
       "      <td>0</td>\n",
       "      <td>0</td>\n",
       "      <td>0</td>\n",
       "      <td>0</td>\n",
       "      <td>1</td>\n",
       "      <td>1</td>\n",
       "      <td>1</td>\n",
       "      <td>1</td>\n",
       "      <td>0</td>\n",
       "    </tr>\n",
       "    <tr>\n",
       "      <th>2</th>\n",
       "      <td>1</td>\n",
       "      <td>1</td>\n",
       "      <td>1</td>\n",
       "      <td>1</td>\n",
       "      <td>1</td>\n",
       "      <td>1</td>\n",
       "      <td>1</td>\n",
       "      <td>1</td>\n",
       "      <td>1</td>\n",
       "      <td>Full-Time</td>\n",
       "      <td>781.905524</td>\n",
       "      <td>1243.216793</td>\n",
       "      <td>0.461826</td>\n",
       "      <td>0.114623</td>\n",
       "      <td>0.289867</td>\n",
       "      <td>0.595510</td>\n",
       "      <td>0</td>\n",
       "      <td>0</td>\n",
       "      <td>1</td>\n",
       "      <td>0</td>\n",
       "      <td>0</td>\n",
       "      <td>0</td>\n",
       "      <td>1</td>\n",
       "      <td>0</td>\n",
       "      <td>0</td>\n",
       "      <td>0</td>\n",
       "      <td>0</td>\n",
       "    </tr>\n",
       "    <tr>\n",
       "      <th>3</th>\n",
       "      <td>1</td>\n",
       "      <td>1</td>\n",
       "      <td>1</td>\n",
       "      <td>1</td>\n",
       "      <td>1</td>\n",
       "      <td>1</td>\n",
       "      <td>1</td>\n",
       "      <td>1</td>\n",
       "      <td>1</td>\n",
       "      <td>Full-Time</td>\n",
       "      <td>1111.481416</td>\n",
       "      <td>1280.507194</td>\n",
       "      <td>0.391533</td>\n",
       "      <td>0.116716</td>\n",
       "      <td>0.153248</td>\n",
       "      <td>0.730036</td>\n",
       "      <td>0</td>\n",
       "      <td>1</td>\n",
       "      <td>0</td>\n",
       "      <td>1</td>\n",
       "      <td>0</td>\n",
       "      <td>0</td>\n",
       "      <td>0</td>\n",
       "      <td>0</td>\n",
       "      <td>0</td>\n",
       "      <td>0</td>\n",
       "      <td>0</td>\n",
       "    </tr>\n",
       "    <tr>\n",
       "      <th>4</th>\n",
       "      <td>1</td>\n",
       "      <td>1</td>\n",
       "      <td>1</td>\n",
       "      <td>1</td>\n",
       "      <td>1</td>\n",
       "      <td>1</td>\n",
       "      <td>1</td>\n",
       "      <td>1</td>\n",
       "      <td>1</td>\n",
       "      <td>Part-Time</td>\n",
       "      <td>502.024321</td>\n",
       "      <td>484.289678</td>\n",
       "      <td>0.577364</td>\n",
       "      <td>0.106847</td>\n",
       "      <td>0.217172</td>\n",
       "      <td>0.675981</td>\n",
       "      <td>0</td>\n",
       "      <td>0</td>\n",
       "      <td>0</td>\n",
       "      <td>1</td>\n",
       "      <td>0</td>\n",
       "      <td>0</td>\n",
       "      <td>1</td>\n",
       "      <td>1</td>\n",
       "      <td>0</td>\n",
       "      <td>0</td>\n",
       "      <td>0</td>\n",
       "    </tr>\n",
       "    <tr>\n",
       "      <th>5</th>\n",
       "      <td>1</td>\n",
       "      <td>1</td>\n",
       "      <td>1</td>\n",
       "      <td>1</td>\n",
       "      <td>1</td>\n",
       "      <td>1</td>\n",
       "      <td>1</td>\n",
       "      <td>1</td>\n",
       "      <td>1</td>\n",
       "      <td>Freelancer</td>\n",
       "      <td>1200.222997</td>\n",
       "      <td>1240.972068</td>\n",
       "      <td>0.459352</td>\n",
       "      <td>0.086626</td>\n",
       "      <td>0.178206</td>\n",
       "      <td>0.735168</td>\n",
       "      <td>0</td>\n",
       "      <td>0</td>\n",
       "      <td>1</td>\n",
       "      <td>1</td>\n",
       "      <td>0</td>\n",
       "      <td>0</td>\n",
       "      <td>0</td>\n",
       "      <td>1</td>\n",
       "      <td>0</td>\n",
       "      <td>0</td>\n",
       "      <td>0</td>\n",
       "    </tr>\n",
       "  </tbody>\n",
       "</table>\n",
       "</div>"
      ],
      "text/plain": [
       "           q1  q2  q3  q4  q5  q6  q7  q8  q9         q10          q11  \\\n",
       "Id Number                                                                \n",
       "1           1   1   1   1   1   1   1   1   1   Full-Time  1413.755254   \n",
       "2           1   1   1   1   1   1   1   1   1   Full-Time   781.905524   \n",
       "3           1   1   1   1   1   1   1   1   1   Full-Time  1111.481416   \n",
       "4           1   1   1   1   1   1   1   1   1   Part-Time   502.024321   \n",
       "5           1   1   1   1   1   1   1   1   1  Freelancer  1200.222997   \n",
       "\n",
       "                   q12       q13       q14       q15       q16  q17  q18  q19  \\\n",
       "Id Number                                                                       \n",
       "1          1123.773708  0.692310  0.094838  0.295012  0.610151    0    1    0   \n",
       "2          1243.216793  0.461826  0.114623  0.289867  0.595510    0    0    1   \n",
       "3          1280.507194  0.391533  0.116716  0.153248  0.730036    0    1    0   \n",
       "4           484.289678  0.577364  0.106847  0.217172  0.675981    0    0    0   \n",
       "5          1240.972068  0.459352  0.086626  0.178206  0.735168    0    0    1   \n",
       "\n",
       "           q20  q21  q22  q23  q24  q25  q26  q27  \n",
       "Id Number                                          \n",
       "1            0    0    0    1    1    1    1    0  \n",
       "2            0    0    0    1    0    0    0    0  \n",
       "3            1    0    0    0    0    0    0    0  \n",
       "4            1    0    0    1    1    0    0    0  \n",
       "5            1    0    0    0    1    0    0    0  "
      ]
     },
     "execution_count": 25,
     "metadata": {},
     "output_type": "execute_result"
    }
   ],
   "source": [
    "data.head()"
   ]
  },
  {
   "cell_type": "markdown",
   "metadata": {},
   "source": [
    "## Bokeh Plots"
   ]
  },
  {
   "cell_type": "code",
   "execution_count": 27,
   "metadata": {},
   "outputs": [],
   "source": [
    "# Importing Bokeh stuff\n",
    "from bokeh.io import output_file, show, output_notebook\n",
    "from bokeh.plotting import Figure, figure\n",
    "from bokeh.embed import components, file_html, json_item\n",
    "from bokeh.layouts import row, column\n",
    "from bokeh.models import CategoricalColorMapper, ColumnDataSource, MultiSelect, HoverTool\n",
    "from bokeh.resources import CDN\n",
    "from bokeh.palettes import all_palettes\n",
    "\n",
    "import json"
   ]
  },
  {
   "cell_type": "code",
   "execution_count": 28,
   "metadata": {},
   "outputs": [
    {
     "data": {
      "text/plain": [
       "['#fbb4ae', '#b3cde3', '#ccebc5', '#decbe4']"
      ]
     },
     "execution_count": 28,
     "metadata": {},
     "output_type": "execute_result"
    }
   ],
   "source": [
    "# Testing the Pastel palette colors\n",
    "all_palettes['Pastel1'][4]"
   ]
  },
  {
   "cell_type": "markdown",
   "metadata": {},
   "source": [
    "### Plot 1 - Qualitative variables"
   ]
  },
  {
   "cell_type": "code",
   "execution_count": 93,
   "metadata": {},
   "outputs": [],
   "source": [
    "# PLOT ABOUT QUESTIONS 17-27 (YES OR NO ANSWERS)\n",
    "\n",
    "#output_file(\"plot_q17-27.html\")\n",
    "\n",
    "questions = ['Q17','Q18','Q19','Q20','Q21','Q22','Q23','Q24','Q25','Q26','Q27']\n",
    "answers = ['Yes', 'No']\n",
    "colors = ['#fbb4ae', '#b3cde3']\n",
    "\n",
    "data1 = {'questions': questions,\n",
    "        'Yes': [data['q17'].value_counts()[1]/data.shape[0], data['q18'].value_counts()[1]/data.shape[0], \n",
    "                data['q19'].value_counts()[0]/data.shape[0], data['q20'].value_counts()[1]/data.shape[0], \n",
    "                data['q21'].value_counts()[1]/data.shape[0], data['q22'].value_counts()[1]/data.shape[0],\n",
    "                data['q23'].value_counts()[0]/data.shape[0], data['q24'].value_counts()[1]/data.shape[0], \n",
    "                data['q25'].value_counts()[1]/data.shape[0], data['q26'].value_counts()[1]/data.shape[0], \n",
    "                data['q27'].value_counts()[1]/data.shape[0]],\n",
    "        'No': [data['q17'].value_counts()[0]/data.shape[0], data['q18'].value_counts()[0]/data.shape[0], \n",
    "               data['q19'].value_counts()[1]/data.shape[0], data['q20'].value_counts()[0]/data.shape[0], \n",
    "               data['q21'].value_counts()[0]/data.shape[0], data['q22'].value_counts()[0]/data.shape[0],\n",
    "               data['q23'].value_counts()[1]/data.shape[0], data['q24'].value_counts()[0]/data.shape[0], \n",
    "               data['q25'].value_counts()[0]/data.shape[0], data['q26'].value_counts()[0]/data.shape[0], \n",
    "               data['q27'].value_counts()[0]/data.shape[0]]}\n",
    "\n",
    "p1 = figure(x_range = questions, plot_height = 450, title = \"Qualitative variables\",\n",
    "           toolbar_location = None, tools = \"\")\n",
    "\n",
    "p1.vbar_stack(answers, x = 'questions', width = 0.9, color = colors, source = data1,\n",
    "             legend_label = answers)\n",
    "\n",
    "p1.y_range.start = 0\n",
    "p1.x_range.range_padding = 0.1\n",
    "p1.xgrid.grid_line_color = None\n",
    "p1.axis.minor_tick_line_color = None\n",
    "p1.outline_line_color = None\n",
    "p1.legend.location = \"top_left\"\n",
    "p1.legend.orientation = \"horizontal\"\n",
    "\n",
    "show(p1)"
   ]
  },
  {
   "cell_type": "markdown",
   "metadata": {},
   "source": [
    "### Plot 2 - Number of Exec/Manager/Other Women"
   ]
  },
  {
   "cell_type": "code",
   "execution_count": 94,
   "metadata": {},
   "outputs": [
    {
     "name": "stderr",
     "output_type": "stream",
     "text": [
      "BokehUserWarning: ColumnDataSource's columns must be of the same length. Current lengths: ('number of executives', 3), ('number of managers', 3), ('other', 3), ('questions1', 1)\n",
      "BokehUserWarning: ColumnDataSource's columns must be of the same length. Current lengths: ('number of executives', 3), ('number of managers', 3), ('other', 3), ('questions1', 1)\n",
      "BokehUserWarning: ColumnDataSource's columns must be of the same length. Current lengths: ('number of executives', 3), ('number of managers', 3), ('other', 3), ('questions1', 1)\n"
     ]
    }
   ],
   "source": [
    "# PLOT 2 - NUMB OF EXEC/MANAGER/OTHER WOMEN\n",
    "\n",
    "#output_file(\"women_exec_manag_other.html\")\n",
    "\n",
    "questions1 = ['Women in a company']\n",
    "answers1 = ['number of executives', 'number of managers', 'other']\n",
    "colors = ['#fbb4ae', '#b3cde3', '#decbe4']\n",
    "\n",
    "data2 = {'questions1': questions1,\n",
    "        'number of executives': [data.q14.mean(), data.q14.mean(), data.q14.mean()],\n",
    "        'number of managers': [data.q15.mean(), data.q15.mean(), data.q15.mean()],\n",
    "        'other': [data.q16.mean(), data.q16.mean(), data.q16.mean()]}\n",
    "\n",
    "p2 = figure(x_range = questions1, plot_height = 450, title = \"Ratio of female workers by expertise\",\n",
    "           toolbar_location = None, tools = \"\")\n",
    "\n",
    "p2.vbar_stack(answers1, x = 'questions1', width = 0.9, color = colors, source = data2, legend_label = answers1)\n",
    "\n",
    "p2.y_range.start = 0\n",
    "p2.x_range.range_padding = 0.1\n",
    "p2.xgrid.grid_line_color = None\n",
    "p2.axis.minor_tick_line_color = None\n",
    "p2.outline_line_color = None\n",
    "p2.legend.location = \"top_left\"\n",
    "p2.legend.orientation = \"horizontal\"\n",
    "\n",
    "show(p2)"
   ]
  },
  {
   "cell_type": "markdown",
   "metadata": {},
   "source": [
    "### Plot 3 - Women vs Men Salaries"
   ]
  },
  {
   "cell_type": "code",
   "execution_count": 105,
   "metadata": {},
   "outputs": [
    {
     "name": "stdout",
     "output_type": "stream",
     "text": [
      "Women's average salary: 1033.6469243023637\n",
      "Men's average salary: 1244.001843035557\n"
     ]
    },
    {
     "data": {
      "image/png": "[encoded data removed]",
      "text/plain": [
       "<Figure size 1224x648 with 2 Axes>"
      ]
     },
     "metadata": {
      "image/png": {
       "height": 610,
       "width": 1007
      }
     },
     "output_type": "display_data"
    }
   ],
   "source": [
    "# Plot 3 - Women vs Men Salaries\n",
    "\n",
    "print(\"Women's average salary:\", data['q11'].mean())\n",
    "print(\"Men's average salary:\", data['q12'].mean())\n",
    "\n",
    "data['q11'] # women earnings\n",
    "data['q12'] # men earnings\n",
    "\n",
    "# Creating the figure\n",
    "fig, axs = plt.subplots(1, 2, figsize = (17, 9))\n",
    "fig.suptitle('Women vs Men salaries')\n",
    "\n",
    "# Plotting and giving colors\n",
    "axs[0].hist(data['q11'], color = 'pink')\n",
    "axs[1].hist(data['q12'], color = 'lightblue')\n",
    "\n",
    "# Labeling the axes\n",
    "axs[0].set_xlabel('Salaries', color = 'pink')\n",
    "axs[0].set_ylabel('Frequencies', color = 'pink')\n",
    "axs[1].set_xlabel('Salaries', color = 'lightblue')\n",
    "axs[1].set_ylabel('Frequencies', color = 'lightblue');"
   ]
  },
  {
   "cell_type": "markdown",
   "metadata": {},
   "source": [
    "### Plots to HTML"
   ]
  },
  {
   "cell_type": "code",
   "execution_count": 95,
   "metadata": {
    "scrolled": false
   },
   "outputs": [],
   "source": [
    "# This isn't actually needed as in each plot cell we can get the output in a .html file already\n",
    "# Plot 1\n",
    "html = file_html(p1, CDN, \"html test 1\")\n",
    "#print(html)"
   ]
  },
  {
   "cell_type": "code",
   "execution_count": null,
   "metadata": {},
   "outputs": [],
   "source": [
    "# Plot 2\n",
    "html = file_html(p1, CDN, \"html test 1\")\n",
    "#print(html)"
   ]
  },
  {
   "cell_type": "markdown",
   "metadata": {},
   "source": [
    "### Plots to Json File"
   ]
  },
  {
   "cell_type": "code",
   "execution_count": 56,
   "metadata": {
    "scrolled": true
   },
   "outputs": [],
   "source": [
    "# Plot 1\n",
    "item_text = json.dumps(json_item(p1, \"Plot 1\"))\n",
    "#print(item_text)"
   ]
  },
  {
   "cell_type": "code",
   "execution_count": 57,
   "metadata": {},
   "outputs": [],
   "source": [
    "# Plot 2\n",
    "item_text = json.dumps(json_item(p2, \"Plot 2\"))\n",
    "#print(item_text)"
   ]
  },
  {
   "cell_type": "markdown",
   "metadata": {},
   "source": [
    "### Plots to JS Script"
   ]
  },
  {
   "cell_type": "code",
   "execution_count": 58,
   "metadata": {
    "scrolled": false
   },
   "outputs": [],
   "source": [
    "# Plot 1\n",
    "script, div = components(p1) \n",
    "#print(script)"
   ]
  },
  {
   "cell_type": "code",
   "execution_count": 41,
   "metadata": {
    "scrolled": true
   },
   "outputs": [],
   "source": [
    "# Plot 2\n",
    "script, div = components(p2) \n",
    "#print(script)"
   ]
  }
 ],
 "metadata": {
  "kernelspec": {
   "display_name": "Python 3",
   "language": "python",
   "name": "python3"
  },
  "language_info": {
   "codemirror_mode": {
    "name": "ipython",
    "version": 3
   },
   "file_extension": ".py",
   "mimetype": "text/x-python",
   "name": "python",
   "nbconvert_exporter": "python",
   "pygments_lexer": "ipython3",
   "version": "3.7.5"
  }
 },
 "nbformat": 4,
 "nbformat_minor": 4
}
